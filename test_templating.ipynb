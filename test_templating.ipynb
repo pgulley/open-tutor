{
 "cells": [
  {
   "cell_type": "code",
   "execution_count": 1,
   "id": "df5f711f-f5c2-4390-9089-652e22704c6f",
   "metadata": {},
   "outputs": [],
   "source": [
    "from jinja2 import Environment, FileSystemLoader, select_autoescape\n",
    "import pickle\n",
    "import random\n",
    "from knowledge_component import KC, ContentExample\n",
    "KG = pickle.load(open(\"sociology_kg.pickle\", \"rb\"))\n",
    "\n",
    "jinja_env = Environment(\n",
    "    loader=FileSystemLoader(\"prompt_templates\"),\n",
    "    autoescape=select_autoescape()\n",
    ")"
   ]
  },
  {
   "cell_type": "code",
   "execution_count": 2,
   "id": "3485b0c2-8096-4f9f-a0df-20ab17fe9b01",
   "metadata": {},
   "outputs": [
    {
     "name": "stdout",
     "output_type": "stream",
     "text": [
      "functionalism : a theoretical approa...\n"
     ]
    },
    {
     "data": {
      "text/plain": [
       "'Theoretical Perspectives on Urbanization  The issues of urbanization play significant roles in the study of sociology. Race, economics, and human behavior intersect in cities. Let’s look at urbanization through the sociological perspectives of functionalism and conflict theory. Functional perspectives on urbanization generally focus on the ecology of the city, while conflict perspective tends to focus on political economy.   Human ecology is a functionalist field of study that looks at the relationship between people and their built and natural physical environments (Park 1915). Generally speaking, urban land use and urban population distribution occur in a predictable pattern once we understand how people relate to their living environment. For example, in the United States, we have a transportation system geared to accommodate individuals and families in the form of interstate highways built for cars. In contrast, most parts of Europe emphasize public transportation such as high-speed rail and commuter lines, as well as walking and bicycling. The challenge for a human ecologist working in U.S. urban planning is to design landscapes and waterscapes with natural beauty, while also figuring out how to provide for free-flowing transport of innumerable vehicles, not to mention parking!   The concentric zone model (Burgess 1925) is perhaps the most famous example of human ecology. This model views a city as a series of concentric circular areas, expanding outward from the center of the city, with various “zones” invading adjacent zones (as new categories of people and businesses overrun the edges of nearby zones) and succeeding (then after invasion, the new inhabitants repurpose the areas they have invaded and push out the previous inhabitants). In this model, Zone A, in the heart of the city, is the center of the business and cultural district. Zone B, the concentric circle surrounding the city center, is composed of formerly wealthy homes split into cheap apartments for new immigrant populations; this zone also houses small manufacturers, pawn shops, and other marginal businesses. Zone C consists of the homes of the working class and established ethnic enclaves. Zone D holds wealthy homes, white-collar workers, and shopping centers. Zone E contains the estates of the upper class (in the exurbs) and the suburbs.  Figure   20.12     This illustration depicts the zones that make up a city in the concentric zone model. (Credit: Zeimusu/Wikimedia Commons)  In contrast to the functionalist approach, theoretical models in the conflict perspective focus on the way urban areas change according to specific decisions made by political and economic leaders. These decisions generally benefit the middle and upper classes while exploiting the working and lower classes.   For example, sociologists Feagin and Parker (1990) suggested three factors by which political and economic leaders control urban growth. First, these leaders work alongside each other to influence urban growth and decline, determining where money flows and how land use is regulated. Second, exchange value and use value of land are balanced to favor the middle and upper classes so that, for example, public land in poor neighborhoods may be rezoned for use as industrial land. Finally, urban development is dependent on both structure (groups such as local government) and agency (individuals including businessmen and activists), and these groups engage in a push-pull dynamic that determines where and how land is actually used. For example, Not In My Back Yard (NIMBY) movements are more likely to emerge in middle and upper-class neighborhoods as engaged citizens protest poor environmental practices they fear will affect them, so these groups have more control over the use of local land.  '"
      ]
     },
     "execution_count": 2,
     "metadata": {},
     "output_type": "execute_result"
    }
   ],
   "source": [
    "term = random.choice(list(KG[\"chapter 1\"]))\n",
    "print(term)\n",
    "term.get_context()"
   ]
  },
  {
   "cell_type": "code",
   "execution_count": 5,
   "id": "d42111c4-4ef1-48f6-b44a-87dba37a2a57",
   "metadata": {},
   "outputs": [],
   "source": [
    "question_template = jinja_env.get_template(\"user_question.j2\")\n",
    "user_prompt = question_template.render(term=term,\n",
    "                                       objective=\"Knowledge\", \n",
    "                                       learning_objective_description=\"can bullshit\")"
   ]
  },
  {
   "cell_type": "code",
   "execution_count": 6,
   "id": "151a0609-e83f-4b1d-844f-6e6860a8850c",
   "metadata": {},
   "outputs": [
    {
     "data": {
      "text/plain": [
       "'The student has chosen to recieve a question pertaining to the following term term: functionalism\\nThe students textbook defines as: a theoretical approach that sees society as a structure with interrelated parts designed to meet the biological and social needs of individuals that make up that society\\nThis question will pertain to the content of the following text: Functionalism  Functionalism emphasizes that all the elements of society have functions that promote solidarity and maintain order and stability in society. Hence, we can observe people from various racial and ethnic backgrounds interacting harmoniously in a state of social balance. Problems arise when one or more racial or ethnic groups experience inequalities and discriminations. This creates tension and conflict resulting in temporary dysfunction of the social system. For example, the killing of a Black man George Floyd by a White police officer in 2020 stirred up protests demanding racial justice and changes in policing in the United States. To restore the society’s pre-disturbed state or to seek a new equilibrium, the police department and various parts of the system require changes and compensatory adjustments.  Another way to apply the functionalist perspective to race and ethnicity is to discuss the way racism can contribute positively to the functioning of society by strengthening bonds between in-group members through the ostracism of out-group members.  Consider how a community might increase solidarity by refusing to allow outsiders access. On the other hand, Rose (1951) suggested that dysfunctions associated with racism include the failure to take advantage of talent in the subjugated group, and that society must divert from other purposes the time and effort needed to maintain artificially constructed racial boundaries. Consider how much money, time, and effort went toward maintaining separate and unequal educational systems prior to the civil rights movement.  In the view of functionalism, racial and ethnic inequalities must have served an important function in order to exist as long as they have. This concept, sometimes, can be problematic. How can racism and discrimination contribute positively to society? Nash (1964) focused his argument on the way racism is functional for the dominant group, for example, suggesting that racism morally justifies a racially unequal society. Consider the way slave owners justified slavery in the antebellum South, by suggesting Black people were fundamentally inferior to White and preferred slavery to freedom.  \\n\\nIn this case, the learning objective is .\\nYour question will help the student demonstrate that they can bullshit'"
      ]
     },
     "execution_count": 6,
     "metadata": {},
     "output_type": "execute_result"
    }
   ],
   "source": [
    "user_prompt"
   ]
  },
  {
   "cell_type": "code",
   "execution_count": null,
   "id": "01306505-b1ae-48f9-83d8-00652b6fd44a",
   "metadata": {},
   "outputs": [],
   "source": []
  }
 ],
 "metadata": {
  "kernelspec": {
   "display_name": "Python 3 (ipykernel)",
   "language": "python",
   "name": "python3"
  },
  "language_info": {
   "codemirror_mode": {
    "name": "ipython",
    "version": 3
   },
   "file_extension": ".py",
   "mimetype": "text/x-python",
   "name": "python",
   "nbconvert_exporter": "python",
   "pygments_lexer": "ipython3",
   "version": "3.11.6"
  }
 },
 "nbformat": 4,
 "nbformat_minor": 5
}
