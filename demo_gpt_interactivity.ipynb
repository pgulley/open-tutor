{
 "cells": [
  {
   "cell_type": "code",
   "execution_count": 2,
   "id": "cac4b10b-3948-4405-a49e-f8173d54ca5c",
   "metadata": {},
   "outputs": [],
   "source": [
    "#in this document we'll keep the demo chatgpt interactions\n",
    "\n",
    "\n",
    "#### Ok Concept Demonstrated! woohoo the world is falling apart. \n",
    "#A little jank: two failure modes that I see are \n",
    "#.   poor difficulty scaling (sometimes a question is the same in two difficulty modes)\n",
    "#.   poorly contained questions - references to \"the text\"\n",
    "## these both are prompt engineering things- structuring the bloom's taxonomy prompt better will solve the first one.\n",
    "\n",
    "#but ultimately this is a pretty delightful little output, I think.\n",
    "# I need to do the SWENG stuff next- packing in the learning objectives as i described in the proposal paper\n",
    "# then the whole recommendation system- that requires some thinking about how to store the KG. \n",
    "##### I get to do some digging on that :3\n",
    "#I should worry about shoving KC context into the prompts a chapter-aware way. A chapter 1 term should not get chapter 21 context,\n",
    "#unless the student is also looking at other chapter 21 content. \n",
    "\n",
    "#Then there's the evaluation engineering thing- a whole extra prompt loop running on actual user input. \n",
    "\n"
   ]
  },
  {
   "cell_type": "code",
   "execution_count": 22,
   "id": "2f61e31c-0425-4279-8c5b-9df5981a8578",
   "metadata": {},
   "outputs": [],
   "source": [
    "import pickle\n",
    "import random\n",
    "from knowledge_component import KC, ContentExample\n",
    "from openai import OpenAI\n",
    "\n",
    "client = OpenAI(\n",
    ")\n",
    "\n",
    "KG = pickle.load(open(\"sociology_kg.pickle\", \"rb\"))"
   ]
  },
  {
   "cell_type": "code",
   "execution_count": 20,
   "id": "e82f8d41-3b2a-4510-84ae-19e12daea371",
   "metadata": {},
   "outputs": [],
   "source": [
    "def term_to_prompt(term, objective=\"Knowledge\"):\n",
    "    if len(term.context) > 0:\n",
    "        context = random.sample(term.context, 1)[0].full_text\n",
    "    else:\n",
    "        context = \"there is no extra context\"\n",
    "\n",
    "    learning_objectives = {\n",
    "        \"Knowledge\":\"can recognize or remember facts, terms, basic concepts, or answers without necessarily understanding what they mean.\",\n",
    "        \"Comprehend\":\"can demonstrate an understanding of facts and ideas by organizing, summarizing, translating, generalizing, giving descriptions, and stating the main ideas. \",\n",
    "        \"Apply\":\"can use the term correctly in new circumstances\",\n",
    "        \"Analyze\":\"can examine and break information into component parts, determine how the parts relate to one another, identify motives or causes, make inferences, and find evidence to support generalizations\"\n",
    "    }\n",
    "    system_prompt = f\"\"\"\n",
    "You are the voice of an intelligent tutoring system made to help students learn sociology. The user provides you a term, its definition, and a paragraph of context from\n",
    "their textbook. You generate only a question/answer pair in json format targeting this content. Consider your answer a possible reference answer to guide how the question is posed.\n",
    "The question should primarily target the given term, and the additional context can be used to guide or supplement the question at higher difficulties. \n",
    "You will also be given a learning objective from Bloom's Taxonomy- one of \"Knowledge\", \"Comprehend\", \"Apply\" and \"Analyse\"- each indicating a more sophisticated question than the prior objective\n",
    "You will scale the difficulty of the question you ask based on this objective. The question should not directly reference any exterior content. \n",
    "\"\"\"\n",
    "    \n",
    "    user_prompt = f\"\"\"\n",
    "The student has chosen to recieve a question pertaining to the following term term: {term.title}\n",
    "The students textbook defines as: {term.definition}\n",
    "This question will pertain to the content of the following text: {context}\n",
    "\n",
    "\n",
    "In this case, the learning objective is \"{objective}\"- your question will help the student demonstrate that they {learning_objectives[objective]}\n",
    "    \"\"\"\n",
    "    return system_prompt, user_prompt"
   ]
  },
  {
   "cell_type": "code",
   "execution_count": 18,
   "id": "6074695a-3730-44d1-8bb0-23ee7f6389d2",
   "metadata": {},
   "outputs": [],
   "source": []
  },
  {
   "cell_type": "code",
   "execution_count": 24,
   "id": "9a8fa11b-fa1b-4cf2-9f57-78941c477fb3",
   "metadata": {},
   "outputs": [
    {
     "name": "stdout",
     "output_type": "stream",
     "text": [
      "positivism : the scientific study...\n",
      "[Choice(finish_reason='stop', index=0, logprobs=None, message=ChatCompletionMessage(content='{\\n\\t\"question\": \"According to the provided context, which famous theorist rejected Comte\\'s positivism and instead believed that societies grew and changed due to the struggles of different social classes over the means of production?\",\\n\\t\"answer\": \"Karl Marx rejected Comte\\'s positivism and proposed that social change occurs through the conflicts between social classes over the means of production.\"\\n}', role='assistant', function_call=None, tool_calls=None))]\n",
      "{\n",
      "\t\"question\": \"According to the provided context, which famous theorist rejected Comte's positivism and instead believed that societies grew and changed due to the struggles of different social classes over the means of production?\",\n",
      "\t\"answer\": \"Karl Marx rejected Comte's positivism and proposed that social change occurs through the conflicts between social classes over the means of production.\"\n",
      "}\n",
      "[Choice(finish_reason='stop', index=0, logprobs=None, message=ChatCompletionMessage(content='{\\n  \"question\": \"How did Georg Simmel\\'s stance on positivism differ from the approach of positivism?\",\\n  \"answer\": \"Georg Simmel took an anti-positivism stance, focusing on micro-level theories and individual culture, while positivism involves the scientific study of social patterns.\",\\n  \"difficulty\": \"Medium\"\\n}', role='assistant', function_call=None, tool_calls=None))]\n",
      "{\n",
      "  \"question\": \"How did Georg Simmel's stance on positivism differ from the approach of positivism?\",\n",
      "  \"answer\": \"Georg Simmel took an anti-positivism stance, focusing on micro-level theories and individual culture, while positivism involves the scientific study of social patterns.\",\n",
      "  \"difficulty\": \"Medium\"\n",
      "}\n",
      "[Choice(finish_reason='stop', index=0, logprobs=None, message=ChatCompletionMessage(content='{\\n  \"question\": \"How did Auguste Comte contribute to the field of sociology with his concept of positivism?\",\\n  \"answer\": \"Auguste Comte named the scientific study of social patterns positivism and believed that revealing the laws by which societies and individuals interact would usher in a new \\'positivist\\' age of history. He described his philosophy in a series of books and emphasized the positive impact sociologists could have on society.\"\\n}', role='assistant', function_call=None, tool_calls=None))]\n",
      "{\n",
      "  \"question\": \"How did Auguste Comte contribute to the field of sociology with his concept of positivism?\",\n",
      "  \"answer\": \"Auguste Comte named the scientific study of social patterns positivism and believed that revealing the laws by which societies and individuals interact would usher in a new 'positivist' age of history. He described his philosophy in a series of books and emphasized the positive impact sociologists could have on society.\"\n",
      "}\n",
      "[Choice(finish_reason='stop', index=0, logprobs=None, message=ChatCompletionMessage(content='{\\n  \"question\": \"How did Auguste Comte contribute to the development of sociology through his concept of positivism?\",\\n  \"answer\": \"Auguste Comte contributed to the development of sociology by naming the scientific study of social patterns \\'positivism\\' and believed that by revealing the laws governing society, sociologists could address societal problems and work towards the betterment of society.\"\\n}', role='assistant', function_call=None, tool_calls=None))]\n",
      "{\n",
      "  \"question\": \"How did Auguste Comte contribute to the development of sociology through his concept of positivism?\",\n",
      "  \"answer\": \"Auguste Comte contributed to the development of sociology by naming the scientific study of social patterns 'positivism' and believed that by revealing the laws governing society, sociologists could address societal problems and work towards the betterment of society.\"\n",
      "}\n"
     ]
    }
   ],
   "source": [
    "term = random.choice(list(KG[\"chapter 1\"]))\n",
    "print(term)\n",
    "\n",
    "\n",
    "def ask_gpt(term, lo):\n",
    "    \n",
    "    system, user = term_to_prompt(term, lo)\n",
    "    response = client.chat.completions.create(\n",
    "      model=\"gpt-3.5-turbo-0125\",\n",
    "      response_format={ \"type\": \"json_object\" },\n",
    "      messages=[\n",
    "        {\"role\": \"system\", \"content\": system},\n",
    "        {\"role\": \"user\", \"content\": user}\n",
    "      ]\n",
    "    )\n",
    "    \n",
    "    return response.choices[0].message.content\n",
    "\n",
    "print(ask_gpt(term, \"Knowledge\"))\n",
    "print(ask_gpt(term, \"Comprehend\"))\n",
    "print(ask_gpt(term, \"Apply\"))\n",
    "print(ask_gpt(term, \"Analyze\"))"
   ]
  },
  {
   "cell_type": "code",
   "execution_count": 25,
   "id": "31c4a3ba-f9e0-4507-ab49-2398047e40e1",
   "metadata": {},
   "outputs": [
    {
     "name": "stdout",
     "output_type": "stream",
     "text": [
      "[Choice(finish_reason='stop', index=0, logprobs=None, message=ChatCompletionMessage(content='{\\n  \"question\": \"What term describes the scientific study of social patterns?\",\\n  \"answer\": \"Positivism\"\\n}', role='assistant', function_call=None, tool_calls=None))]\n"
     ]
    }
   ],
   "source": [
    "test = ask_gpt(term, \"Knowledge\")"
   ]
  },
  {
   "cell_type": "code",
   "execution_count": 26,
   "id": "636f450d-3174-4168-ae10-23e1f7b5de63",
   "metadata": {},
   "outputs": [
    {
     "data": {
      "text/plain": [
       "'{\\n  \"question\": \"What term describes the scientific study of social patterns?\",\\n  \"answer\": \"Positivism\"\\n}'"
      ]
     },
     "execution_count": 26,
     "metadata": {},
     "output_type": "execute_result"
    }
   ],
   "source": [
    "test"
   ]
  },
  {
   "cell_type": "code",
   "execution_count": 27,
   "id": "65d5b40a-660c-41b0-ae96-bd9fd2fd6690",
   "metadata": {},
   "outputs": [
    {
     "data": {
      "text/plain": [
       "{'question': 'What term describes the scientific study of social patterns?',\n",
       " 'answer': 'Positivism'}"
      ]
     },
     "execution_count": 27,
     "metadata": {},
     "output_type": "execute_result"
    }
   ],
   "source": [
    "import json\n",
    "json.loads(test)"
   ]
  },
  {
   "cell_type": "code",
   "execution_count": null,
   "id": "fad4dfce-0a68-43af-85b3-0dbd8e6a5444",
   "metadata": {},
   "outputs": [],
   "source": []
  }
 ],
 "metadata": {
  "kernelspec": {
   "display_name": "Python 3 (ipykernel)",
   "language": "python",
   "name": "python3"
  },
  "language_info": {
   "codemirror_mode": {
    "name": "ipython",
    "version": 3
   },
   "file_extension": ".py",
   "mimetype": "text/x-python",
   "name": "python",
   "nbconvert_exporter": "python",
   "pygments_lexer": "ipython3",
   "version": "3.11.6"
  }
 },
 "nbformat": 4,
 "nbformat_minor": 5
}
